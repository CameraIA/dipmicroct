{
 "cells": [
  {
   "cell_type": "markdown",
   "metadata": {},
   "source": [
    "# CAMERA Workshop 2019\n",
    "\n",
    "Lawrence Berkeley National Laboratory - LBNL\n",
    "\n",
    "* Support material for the tutorial _Image processing for microCT using scikit-image (Part I)_.\n",
    "\n",
    "This tutorial will introduce how to analyze three dimensional stacked and volumetric\n",
    "images in Python, mainly using scikit-image. Here we will learn how to:\n",
    "  * pre-process data using filtering, binarization and segmentation techniques.\n",
    "  * inspect, count and measure attributes of objects and regions of interest in the data.\n",
    "  * visualize 3D data.\n",
    "\n",
    "Please prepare for the tutorial by [installing the pre-requisite software](preparation.md) beforehand.\n",
    "\n",
    "For more info:\n",
    "  * [[CAMERA Workshop 2019]](http://microct.lbl.gov/cameratomo2019/)\n",
    "  * [[scikit-image]](https://scikit-image.org/)\n",
    "\n",
    "\n",
    "## Importing some starting modules...\n",
    "\n",
    "... and adding some bells and whistles."
   ]
  },
  {
   "cell_type": "code",
   "execution_count": null,
   "metadata": {},
   "outputs": [],
   "source": [
    "from skimage import restoration, data, io\n",
    "\n",
    "import matplotlib.pyplot as plt\n",
    "import numpy as np\n",
    "\n",
    "%matplotlib inline\n",
    "\n",
    "plt.rcParams['font.family'] = 'monospace'"
   ]
  },
  {
   "cell_type": "markdown",
   "metadata": {},
   "source": [
    "Reading `cells.tif`."
   ]
  },
  {
   "cell_type": "code",
   "execution_count": null,
   "metadata": {},
   "outputs": [],
   "source": [
    "cells = io.imread('../data/cells.tif')\n",
    "\n",
    "plt.figure(figsize=(15, 10))\n",
    "plt.imshow(cells[32], cmap='gray')"
   ]
  },
  {
   "cell_type": "markdown",
   "metadata": {},
   "source": [
    "## Using joblib to parallelize code\n",
    "\n",
    "Joblib is a set of tools to provide lightweight pipelining in Python. In particular:\n",
    "\n",
    "1. transparent disk-caching of functions and lazy re-evaluation (known as _memoize pattern_)\n",
    "2. easy simple parallel computing\n",
    "\n",
    "Joblib is optimized to be fast and robust on large data in particular and has specific optimizations for numpy arrays.\n",
    "\n",
    "* [[joblib documentation]](https://joblib.readthedocs.io/en/latest/)\n",
    "\n",
    "Here we implement a function to apply the bilateral filter, the \"classic\" way."
   ]
  },
  {
   "cell_type": "code",
   "execution_count": null,
   "metadata": {},
   "outputs": [],
   "source": [
    "def bilateral_classic_loop(data):\n",
    "    \"\"\"A function to apply the bilateral filter on 3D data.\"\"\"\n",
    "    data_bilateral = np.empty_like(data)\n",
    "    for plane, image in enumerate(data):\n",
    "        data_bilateral[plane] = restoration.denoise_bilateral(image,\n",
    "                                                              multichannel=False)\n",
    "    return data_bilateral\n",
    "\n",
    "%time _ = bilateral_classic_loop(cells)"
   ]
  },
  {
   "cell_type": "markdown",
   "metadata": {},
   "source": [
    "Now we implement this function using `joblib`. "
   ]
  },
  {
   "cell_type": "code",
   "execution_count": null,
   "metadata": {},
   "outputs": [],
   "source": [
    "from joblib import Parallel, delayed\n",
    "\n",
    "# when using n_jobs=-2, all CPUs but one are used.\n",
    "\n",
    "def bilateral_joblib_loop(data):\n",
    "    data_bilateral = Parallel(n_jobs=-2)(delayed(\n",
    "        restoration.denoise_bilateral\n",
    "    )(plane, multichannel=False) for plane in data)\n",
    "\n",
    "    return data_bilateral\n",
    "\n",
    "%time _ = bilateral_joblib_loop(cells)"
   ]
  },
  {
   "cell_type": "markdown",
   "metadata": {},
   "source": [
    "We can use also `joblib.Memory` to cache results from a function."
   ]
  },
  {
   "cell_type": "code",
   "execution_count": null,
   "metadata": {},
   "outputs": [],
   "source": [
    "from joblib import Memory\n",
    "\n",
    "memory = Memory(location='../cache', verbose=0)\n",
    "\n",
    "@memory.cache\n",
    "def bilateral_joblib_loop(data):\n",
    "    data_bilateral = Parallel(n_jobs=2)(delayed(\n",
    "        restoration.denoise_bilateral\n",
    "    )(plane, multichannel=False) for plane in data)\n",
    "\n",
    "    return data_bilateral\n",
    "\n",
    "\n",
    "# 1st execution\n",
    "%time _ = bilateral_joblib_loop(cells)\n",
    "\n",
    "# 2nd execution, cached\n",
    "%time _ = bilateral_joblib_loop(cells)"
   ]
  },
  {
   "cell_type": "markdown",
   "metadata": {},
   "source": [
    "## Parallelize operations with Dask.array\n",
    "\n",
    "Dask allows parallel computing in python, coordinating many NumPy arrays arranged into a grid. Useful when dealing with collections of data that do not fit the RAM in your PC.\n",
    "\n",
    "Let's split `cells` into four chunks, and map `skimage.filters.gaussian` on each block."
   ]
  },
  {
   "cell_type": "code",
   "execution_count": null,
   "metadata": {},
   "outputs": [],
   "source": [
    "import dask.array as da\n",
    "from skimage import filters\n",
    "\n",
    "depth, rows, cols = cells.shape\n",
    "\n",
    "%time\n",
    "cells_dask = da.from_array(cells, chunks=(depth // 2, rows // 2, cols // 2), name=False)\n",
    "cells_dask_gauss = cells_dask.map_overlap(filters.gaussian, depth=15, sigma=3, boundary='none')"
   ]
  },
  {
   "cell_type": "markdown",
   "metadata": {},
   "source": [
    "Let's see the structure of `cells_dask`. `.visualize()` shows the task graph:"
   ]
  },
  {
   "cell_type": "code",
   "execution_count": null,
   "metadata": {
    "scrolled": true
   },
   "outputs": [],
   "source": [
    "cells_dask.visualize()"
   ]
  },
  {
   "cell_type": "markdown",
   "metadata": {},
   "source": [
    "Some commands to get `.visualize()` working:\n",
    "\n",
    "`$ conda install graphviz python-graphviz`\n",
    "\n",
    "`$ sudo apt install graphviz` (on Ubuntu)\n",
    "\n",
    "Now, the structure of `cells_dask_gauss`."
   ]
  },
  {
   "cell_type": "code",
   "execution_count": null,
   "metadata": {},
   "outputs": [],
   "source": [
    "cells_dask_gauss.visualize()"
   ]
  },
  {
   "cell_type": "markdown",
   "metadata": {},
   "source": [
    "Now, we use `.compute()` to actually calculate the operations."
   ]
  },
  {
   "cell_type": "code",
   "execution_count": null,
   "metadata": {},
   "outputs": [],
   "source": [
    "%time _ = cells_dask_gauss.compute()"
   ]
  },
  {
   "cell_type": "markdown",
   "metadata": {},
   "source": [
    "## Going beyond\n",
    "\n",
    "[1] Matt Rocklin's \"Scikit-Image and Dask Experiment\": https://nbviewer.jupyter.org/gist/mrocklin/ec745d6c2a12dddddb125ef460a4da76\n",
    "\n",
    "[2] skimage's `util.apply_parallel`: https://scikit-image.org/docs/dev/api/skimage.util.html#skimage.util.apply_parallel\n",
    "\n",
    "[3] Emmanuelle Gouillart's \"Processing X-ray tomography images with Python\": http://emmanuelle.github.io/segmentation-of-3-d-tomography-images-with-python-and-scikit-image.html\n",
    "\n",
    "[4] Valentina Staneva's \"Scalable Data Analysis\": https://github.com/valentina-s/Dask_ImageXD_2018/blob/master/Scalable-Data-Analysis-with-Dask.ipynb"
   ]
  },
  {
   "cell_type": "code",
   "execution_count": null,
   "metadata": {},
   "outputs": [],
   "source": []
  }
 ],
 "metadata": {
  "kernelspec": {
   "display_name": "Python 3",
   "language": "python",
   "name": "python3"
  },
  "language_info": {
   "codemirror_mode": {
    "name": "ipython",
    "version": 3
   },
   "file_extension": ".py",
   "mimetype": "text/x-python",
   "name": "python",
   "nbconvert_exporter": "python",
   "pygments_lexer": "ipython3",
   "version": "3.6.9"
  },
  "toc": {
   "base_numbering": 1,
   "nav_menu": {},
   "number_sections": true,
   "sideBar": true,
   "skip_h1_title": false,
   "title_cell": "Table of Contents",
   "title_sidebar": "Contents",
   "toc_cell": false,
   "toc_position": {},
   "toc_section_display": true,
   "toc_window_display": false
  }
 },
 "nbformat": 4,
 "nbformat_minor": 2
}
