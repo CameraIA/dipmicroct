{
 "cells": [
  {
   "cell_type": "markdown",
   "metadata": {},
   "source": [
    "# CAMERA Workshop 2019\n",
    "\n",
    "Daniela Ushizima, Alexandre de Siqueira, Stéfan van der Walt\n",
    "\n",
    "_BIDS @ University of California, Berkeley_\n",
    "\n",
    "_Lawrence Berkeley National Laboratory - LBNL_\n",
    "\n",
    "* Support material for the tutorial _Image processing for microCT using scikit-image (Part II)_.\n",
    "\n",
    "This tutorial will introduce how to analyze three dimensional stacked and volumetric\n",
    "images in Python, mainly using scikit-image. Here we will learn how to:\n",
    "  * pre-process data using filtering, binarization and segmentation techniques.\n",
    "  * inspect, count and measure attributes of objects and regions of interest in the data.\n",
    "  * visualize 3D data.\n",
    "\n",
    "Please prepare for the tutorial by [installing the pre-requisite software](preparation.md) beforehand.\n",
    "\n",
    "For more info:\n",
    "  * [[CAMERA Workshop 2019]](http://microct.lbl.gov/cameratomo2019/)"
   ]
  },
  {
   "cell_type": "code",
   "execution_count": 1,
   "metadata": {},
   "outputs": [],
   "source": [
    "import numpy as np\n",
    "import matplotlib.pyplot as plt\n",
    "\n",
    "%matplotlib inline"
   ]
  },
  {
   "cell_type": "code",
   "execution_count": 2,
   "metadata": {},
   "outputs": [],
   "source": [
    "from skimage import io"
   ]
  },
  {
   "cell_type": "code",
   "execution_count": 3,
   "metadata": {},
   "outputs": [],
   "source": [
    "input_filename=\"../data/bead_pack_artifacts_small.tif\"\n",
    "img = io.imread(input_filename)"
   ]
  },
  {
   "cell_type": "markdown",
   "metadata": {},
   "source": [
    "# Visualizing stacks with itkwidgets\n",
    "- Visualize 2D and 3D images, point sets, and geometry, e.g. meshes, in Jupyter\n",
    "- Support for NumPy array images, itk.Image, Dask array images and more\n",
    "- More info at [[repo]](https://github.com/InsightSoftwareConsortium/itkwidgets)"
   ]
  },
  {
   "cell_type": "code",
   "execution_count": 4,
   "metadata": {},
   "outputs": [],
   "source": [
    "import itk\n",
    "from itkwidgets import view"
   ]
  },
  {
   "cell_type": "markdown",
   "metadata": {},
   "source": [
    "## An interactive imshow"
   ]
  },
  {
   "cell_type": "code",
   "execution_count": 25,
   "metadata": {},
   "outputs": [
    {
     "data": {
      "application/vnd.jupyter.widget-view+json": {
       "model_id": "99287b3c7b6446f49f546535066ae6ac",
       "version_major": 2,
       "version_minor": 0
      },
      "text/plain": [
       "Viewer(gradient_opacity=0.22, rendered_image=<itkImagePython.itkImageUC2; proxy of <Swig Object of type 'itkIm…"
      ]
     },
     "metadata": {},
     "output_type": "display_data"
    }
   ],
   "source": [
    "aslice = img[len(img)//2,:,:]\n",
    "image_itk = itk.GetImageFromArray(aslice.astype('uint8'))\n",
    "view(image_itk)"
   ]
  },
  {
   "cell_type": "markdown",
   "metadata": {},
   "source": [
    "## Volume rendering in the jupyter notebook"
   ]
  },
  {
   "cell_type": "code",
   "execution_count": 16,
   "metadata": {},
   "outputs": [
    {
     "data": {
      "application/vnd.jupyter.widget-view+json": {
       "model_id": "c28b5ff23c9841d4aeab3cb2b4e41139",
       "version_major": 2,
       "version_minor": 0
      },
      "text/plain": [
       "Viewer(gradient_opacity=0.01, rendered_image=<itkImagePython.itkImageUC3; proxy of <Swig Object of type 'itkIm…"
      ]
     },
     "metadata": {},
     "output_type": "display_data"
    }
   ],
   "source": [
    "#original image\n",
    "image_itk = itk.GetImageFromArray(img.astype('uint8'))\n",
    "view(image_itk, slicing_planes=True, gradient_opacity=0)"
   ]
  },
  {
   "cell_type": "code",
   "execution_count": 15,
   "metadata": {},
   "outputs": [
    {
     "data": {
      "application/vnd.jupyter.widget-view+json": {
       "model_id": "45202cfe4d844892b61f914da68cce2f",
       "version_major": 2,
       "version_minor": 0
      },
      "text/plain": [
       "Viewer(gradient_opacity=0.01, rendered_image=<itkImagePython.itkImageUC3; proxy of <Swig Object of type 'itkIm…"
      ]
     },
     "metadata": {},
     "output_type": "display_data"
    }
   ],
   "source": [
    "#cleaned\n",
    "input_filename=\"../data/cleaned.tiff\"\n",
    "cleaned = io.imread(input_filename)\n",
    "image_itk = itk.GetImageFromArray(cleaned.astype('uint8'))\n",
    "view(image_itk, gradient_opacity=0)"
   ]
  },
  {
   "cell_type": "code",
   "execution_count": 13,
   "metadata": {},
   "outputs": [
    {
     "data": {
      "application/vnd.jupyter.widget-view+json": {
       "model_id": "7de8403521034b25a6c9d5a6f081fe33",
       "version_major": 2,
       "version_minor": 0
      },
      "text/plain": [
       "Viewer(gradient_opacity=0.22, rendered_image=<itkImagePython.itkImageUC3; proxy of <Swig Object of type 'itkIm…"
      ]
     },
     "metadata": {},
     "output_type": "display_data"
    }
   ],
   "source": [
    "#a bead\n",
    "input_filename=\"../data/bead.tiff\"\n",
    "bead = io.imread(input_filename)\n",
    "view(itk.GetImageFromArray(bead.astype('uint8')))"
   ]
  },
  {
   "cell_type": "markdown",
   "metadata": {},
   "source": [
    "## Downsample for images > 1M voxels"
   ]
  },
  {
   "cell_type": "code",
   "execution_count": 11,
   "metadata": {},
   "outputs": [],
   "source": [
    "#Quick view of content\n",
    "downsample = 3 #isotropic downsampling\n",
    "image_np = cleaned[::downsample,::downsample,::downsample]\n",
    "image_itk = itk.GetImageFromArray(image_np.astype('uint8'))\n",
    "#view(image_itk, gradient_opacity=0.2,shadow=False)"
   ]
  },
  {
   "cell_type": "markdown",
   "metadata": {},
   "source": [
    "## Anisotropic volumes"
   ]
  },
  {
   "cell_type": "code",
   "execution_count": 22,
   "metadata": {},
   "outputs": [],
   "source": [
    "new_spacing = [4, 1, 1]\n",
    "image_itk.SetSpacing(new_spacing)\n",
    "#view(image_itk, cmap='Blues', gradient_opacity=0.4)"
   ]
  },
  {
   "cell_type": "markdown",
   "metadata": {},
   "source": [
    "In general, there's some much one can segment using only classical filters and thresholding. A complete investigation will often include machine learning methods using unsupervised and supervised classification of voxels."
   ]
  },
  {
   "cell_type": "markdown",
   "metadata": {},
   "source": [
    "# Tomochallenge"
   ]
  },
  {
   "cell_type": "code",
   "execution_count": 24,
   "metadata": {},
   "outputs": [
    {
     "data": {
      "application/vnd.jupyter.widget-view+json": {
       "model_id": "2fe47b97c84c42f499a6d9ce9d07e840",
       "version_major": 2,
       "version_minor": 0
      },
      "text/plain": [
       "Viewer(rendered_image=<itkImagePython.itkImageUC3; proxy of <Swig Object of type 'itkImageUC3 *' at 0x1d8871bf…"
      ]
     },
     "metadata": {},
     "output_type": "display_data"
    }
   ],
   "source": [
    "input_filename=\"../data/phantom_gt.tif\"\n",
    "img = io.imread(input_filename)\n",
    "\n",
    "image_itk = itk.GetImageFromArray(img.astype('uint8'))\n",
    "new_spacing = [1, 1, 8]\n",
    "image_itk.SetSpacing(new_spacing)\n",
    "view(image_itk, gradient_opacity=0.2,shadow=False)"
   ]
  },
  {
   "cell_type": "code",
   "execution_count": null,
   "metadata": {},
   "outputs": [],
   "source": []
  }
 ],
 "metadata": {
  "kernelspec": {
   "display_name": "Python 3",
   "language": "python",
   "name": "python3"
  },
  "language_info": {
   "codemirror_mode": {
    "name": "ipython",
    "version": 3
   },
   "file_extension": ".py",
   "mimetype": "text/x-python",
   "name": "python",
   "nbconvert_exporter": "python",
   "pygments_lexer": "ipython3",
   "version": "3.6.7"
  },
  "toc": {
   "base_numbering": 1,
   "nav_menu": {},
   "number_sections": true,
   "sideBar": true,
   "skip_h1_title": false,
   "title_cell": "Table of Contents",
   "title_sidebar": "Contents",
   "toc_cell": false,
   "toc_position": {},
   "toc_section_display": true,
   "toc_window_display": false
  }
 },
 "nbformat": 4,
 "nbformat_minor": 2
}
